{
 "cells": [
  {
   "cell_type": "code",
   "execution_count": 1,
   "id": "e48f975f",
   "metadata": {},
   "outputs": [],
   "source": [
    "# Import libraries\n",
    "from tensorflow.keras.models import Sequential \n",
    "from tensorflow.keras.layers import Dense, Convolution2D, MaxPooling2D, Flatten"
   ]
  },
  {
   "cell_type": "code",
   "execution_count": 2,
   "id": "38958cfa",
   "metadata": {},
   "outputs": [],
   "source": [
    "# Importing augmentation libraries\n",
    "from tensorflow.keras.preprocessing.image import ImageDataGenerator"
   ]
  },
  {
   "cell_type": "code",
   "execution_count": 3,
   "id": "888c0384",
   "metadata": {},
   "outputs": [],
   "source": [
    "# Defining the augmentation techniques - horizontal flip, zoom range, shear range \n",
    "train_datagen = ImageDataGenerator(rescale = 1./255, shear_range = 0.2, zoom_range = 0.2, horizontal_flip = True)\n",
    "test_datagen = ImageDataGenerator(rescale = 1./255)"
   ]
  },
  {
   "cell_type": "code",
   "execution_count": 4,
   "id": "8e0e8af2",
   "metadata": {},
   "outputs": [
    {
     "name": "stdout",
     "output_type": "stream",
     "text": [
      "Found 346 images belonging to 5 classes.\n",
      "Found 230 images belonging to 5 classes.\n"
     ]
    }
   ],
   "source": [
    "# Loading the data set \n",
    "\n",
    "# Converting each image to the same size by using the target argument \n",
    "# Every epoch will have 32 images trained with batch argument\n",
    "\n",
    "x_train = train_datagen.flow_from_directory(r\"D:\\Externship Code Files\\Assignments\\Fruits_data\\train\", target_size = (64, 64), batch_size = 32, class_mode = \"categorical\")\n",
    "x_test = test_datagen.flow_from_directory(r\"D:\\Externship Code Files\\Assignments\\Fruits_data\\test\", target_size = (64, 64), batch_size = 32, class_mode = \"categorical\")\n"
   ]
  },
  {
   "cell_type": "code",
   "execution_count": 5,
   "id": "75dd8ef8",
   "metadata": {},
   "outputs": [],
   "source": [
    "# Using sequential as the cnn modelling has a sequential flow \n",
    "cnn = Sequential()"
   ]
  },
  {
   "cell_type": "code",
   "execution_count": 6,
   "id": "6ce2acce",
   "metadata": {},
   "outputs": [],
   "source": [
    "# Adding convolution layer \n",
    "cnn.add(Convolution2D(32, (3,3), input_shape = (64, 64, 3)))"
   ]
  },
  {
   "cell_type": "code",
   "execution_count": 7,
   "id": "1e68241f",
   "metadata": {},
   "outputs": [],
   "source": [
    "# Adding pooling layer \n",
    "cnn.add(MaxPooling2D(2,2))"
   ]
  },
  {
   "cell_type": "code",
   "execution_count": 8,
   "id": "bf5353a7",
   "metadata": {},
   "outputs": [],
   "source": [
    "# Adding flatten layer\n",
    "cnn.add(Flatten())"
   ]
  },
  {
   "cell_type": "code",
   "execution_count": 9,
   "id": "4308c409",
   "metadata": {},
   "outputs": [],
   "source": [
    "# Adding hidden layer \n",
    "cnn.add(Dense(units = 128, kernel_initializer = 'random_uniform', activation = 'relu'))"
   ]
  },
  {
   "cell_type": "code",
   "execution_count": 10,
   "id": "b5f560d4",
   "metadata": {},
   "outputs": [],
   "source": [
    "# Adding the output layer with 5 units as we have 5 classes \n",
    "cnn.add(Dense(units = 5, kernel_initializer = 'random_uniform', activation = 'softmax'))"
   ]
  },
  {
   "cell_type": "code",
   "execution_count": 11,
   "id": "0d080af0",
   "metadata": {},
   "outputs": [],
   "source": [
    "# Compiling the model \n",
    "cnn.compile(optimizer = 'adam', loss = 'categorical_crossentropy', metrics = ['accuracy'])"
   ]
  },
  {
   "cell_type": "code",
   "execution_count": 12,
   "id": "ed5d2e33",
   "metadata": {},
   "outputs": [
    {
     "name": "stderr",
     "output_type": "stream",
     "text": [
      "D:\\Anaconda\\lib\\site-packages\\keras\\engine\\training.py:1972: UserWarning: `Model.fit_generator` is deprecated and will be removed in a future version. Please use `Model.fit`, which supports generators.\n",
      "  warnings.warn('`Model.fit_generator` is deprecated and '\n"
     ]
    },
    {
     "name": "stdout",
     "output_type": "stream",
     "text": [
      "Epoch 1/15\n",
      "11/10 [==============================] - ETA: 0s - loss: 1.8175 - accuracy: 0.3150"
     ]
    },
    {
     "name": "stderr",
     "output_type": "stream",
     "text": [
      "D:\\Anaconda\\lib\\site-packages\\PIL\\Image.py:962: UserWarning: Palette images with Transparency expressed in bytes should be converted to RGBA images\n",
      "  warnings.warn(\n"
     ]
    },
    {
     "name": "stdout",
     "output_type": "stream",
     "text": [
      "10/10 [==============================] - 14s 1s/step - loss: 1.8175 - accuracy: 0.3150 - val_loss: 1.3451 - val_accuracy: 0.4522\n",
      "Epoch 2/15\n",
      "10/10 [==============================] - 12s 1s/step - loss: 1.2812 - accuracy: 0.4884 - val_loss: 1.1452 - val_accuracy: 0.5304\n",
      "Epoch 3/15\n",
      "10/10 [==============================] - 12s 1s/step - loss: 1.1441 - accuracy: 0.5520 - val_loss: 1.0776 - val_accuracy: 0.5739\n",
      "Epoch 4/15\n",
      "10/10 [==============================] - 13s 1s/step - loss: 1.0687 - accuracy: 0.6012 - val_loss: 1.0265 - val_accuracy: 0.5783\n",
      "Epoch 5/15\n",
      "10/10 [==============================] - 12s 1s/step - loss: 0.9669 - accuracy: 0.6792 - val_loss: 0.9840 - val_accuracy: 0.5522\n",
      "Epoch 6/15\n",
      "10/10 [==============================] - 12s 1s/step - loss: 0.8696 - accuracy: 0.6792 - val_loss: 0.8883 - val_accuracy: 0.6174\n",
      "Epoch 7/15\n",
      "10/10 [==============================] - 12s 1s/step - loss: 0.8319 - accuracy: 0.6879 - val_loss: 0.8408 - val_accuracy: 0.6217\n",
      "Epoch 8/15\n",
      "10/10 [==============================] - 12s 1s/step - loss: 0.7538 - accuracy: 0.7081 - val_loss: 0.8473 - val_accuracy: 0.6348\n",
      "Epoch 9/15\n",
      "10/10 [==============================] - 13s 1s/step - loss: 0.6742 - accuracy: 0.7543 - val_loss: 0.8535 - val_accuracy: 0.6783\n",
      "Epoch 10/15\n",
      "10/10 [==============================] - 12s 1s/step - loss: 0.6121 - accuracy: 0.7832 - val_loss: 0.7074 - val_accuracy: 0.7304\n",
      "Epoch 11/15\n",
      "10/10 [==============================] - 12s 1s/step - loss: 0.6001 - accuracy: 0.7861 - val_loss: 0.7421 - val_accuracy: 0.6957\n",
      "Epoch 12/15\n",
      "10/10 [==============================] - 12s 1s/step - loss: 0.5523 - accuracy: 0.8121 - val_loss: 0.7111 - val_accuracy: 0.7130\n",
      "Epoch 13/15\n",
      "10/10 [==============================] - 12s 1s/step - loss: 0.4898 - accuracy: 0.8382 - val_loss: 0.7363 - val_accuracy: 0.7304\n",
      "Epoch 14/15\n",
      "10/10 [==============================] - 12s 1s/step - loss: 0.4660 - accuracy: 0.8613 - val_loss: 0.8555 - val_accuracy: 0.7043\n",
      "Epoch 15/15\n",
      "10/10 [==============================] - 13s 1s/step - loss: 0.4500 - accuracy: 0.8295 - val_loss: 0.6606 - val_accuracy: 0.7609\n"
     ]
    },
    {
     "data": {
      "text/plain": [
       "<keras.callbacks.History at 0x20f62f18ac0>"
      ]
     },
     "execution_count": 12,
     "metadata": {},
     "output_type": "execute_result"
    }
   ],
   "source": [
    "# Training and testing the model \n",
    "cnn.fit_generator(x_train, steps_per_epoch = 346/32, epochs = 15, validation_data = x_test, validation_steps = 230/32)"
   ]
  },
  {
   "cell_type": "code",
   "execution_count": 13,
   "id": "2527bacd",
   "metadata": {},
   "outputs": [],
   "source": [
    " # Saving model \n",
    "cnn.save(\"fruits.h5\")"
   ]
  },
  {
   "cell_type": "code",
   "execution_count": null,
   "id": "68850fbf",
   "metadata": {},
   "outputs": [],
   "source": []
  }
 ],
 "metadata": {
  "kernelspec": {
   "display_name": "Python 3",
   "language": "python",
   "name": "python3"
  },
  "language_info": {
   "codemirror_mode": {
    "name": "ipython",
    "version": 3
   },
   "file_extension": ".py",
   "mimetype": "text/x-python",
   "name": "python",
   "nbconvert_exporter": "python",
   "pygments_lexer": "ipython3",
   "version": "3.8.8"
  }
 },
 "nbformat": 4,
 "nbformat_minor": 5
}
