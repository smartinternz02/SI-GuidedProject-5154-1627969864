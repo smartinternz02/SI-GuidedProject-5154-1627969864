{
 "cells": [
  {
   "cell_type": "code",
   "execution_count": 1,
   "id": "1b789965",
   "metadata": {},
   "outputs": [],
   "source": [
    "# Importing libraries\n",
    "from tensorflow.keras.models import load_model\n",
    "from tensorflow.keras.preprocessing import image"
   ]
  },
  {
   "cell_type": "code",
   "execution_count": 2,
   "id": "d32d9eae",
   "metadata": {},
   "outputs": [],
   "source": [
    "# Loading the model \n",
    "model = load_model(\"fruits.h5\")"
   ]
  },
  {
   "cell_type": "code",
   "execution_count": 37,
   "id": "e0b70315",
   "metadata": {},
   "outputs": [],
   "source": [
    "# Loading the test image\n",
    "img = image.load_img('pineapple.jpeg_1700Wx1700H', target_size = (64, 64))"
   ]
  },
  {
   "cell_type": "code",
   "execution_count": 38,
   "id": "fa757a89",
   "metadata": {},
   "outputs": [],
   "source": [
    "x = image.img_to_array(img)"
   ]
  },
  {
   "cell_type": "code",
   "execution_count": 39,
   "id": "9694042a",
   "metadata": {},
   "outputs": [],
   "source": [
    "#Since the shape for testing should be 4 dimensions instead of 3 \n",
    "import numpy as np \n",
    "x = np.expand_dims(x, axis = 0)"
   ]
  },
  {
   "cell_type": "code",
   "execution_count": 40,
   "id": "cdbf9235",
   "metadata": {},
   "outputs": [
    {
     "data": {
      "text/plain": [
       "array([[0., 0., 0., 1., 0.]], dtype=float32)"
      ]
     },
     "execution_count": 40,
     "metadata": {},
     "output_type": "execute_result"
    }
   ],
   "source": [
    "pred = model.predict(x)\n",
    "pred"
   ]
  },
  {
   "cell_type": "code",
   "execution_count": 41,
   "id": "9edee3d4",
   "metadata": {},
   "outputs": [],
   "source": [
    "# Creating a list to present the output result as string\n",
    "fruits = ['Apple', 'Grapes', 'Mango', 'Pineapple', 'Watermelon']"
   ]
  },
  {
   "cell_type": "code",
   "execution_count": 42,
   "id": "8c825b88",
   "metadata": {},
   "outputs": [
    {
     "data": {
      "text/plain": [
       "'Pineapple'"
      ]
     },
     "execution_count": 42,
     "metadata": {},
     "output_type": "execute_result"
    }
   ],
   "source": [
    "prediction = fruits[np.argmax(pred)]\n",
    "prediction"
   ]
  }
 ],
 "metadata": {
  "kernelspec": {
   "display_name": "Python 3",
   "language": "python",
   "name": "python3"
  },
  "language_info": {
   "codemirror_mode": {
    "name": "ipython",
    "version": 3
   },
   "file_extension": ".py",
   "mimetype": "text/x-python",
   "name": "python",
   "nbconvert_exporter": "python",
   "pygments_lexer": "ipython3",
   "version": "3.8.8"
  }
 },
 "nbformat": 4,
 "nbformat_minor": 5
}
